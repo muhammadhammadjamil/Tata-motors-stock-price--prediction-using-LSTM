{
  "nbformat": 4,
  "nbformat_minor": 0,
  "metadata": {
    "colab": {
      "name": "LSTM2.ipynb",
      "provenance": [],
      "collapsed_sections": []
    },
    "kernelspec": {
      "name": "python3",
      "display_name": "Python 3"
    },
    "language_info": {
      "name": "python"
    },
    "accelerator": "TPU"
  },
  "cells": [
    {
      "cell_type": "code",
      "metadata": {
        "id": "CKIcvmlVhqHO"
      },
      "source": [
        "import numpy as np\n",
        "import pandas as pd\n",
        "import matplotlib.pyplot as plt\n",
        "import seaborn as sb\n",
        "from keras.models import Sequential\n",
        "from keras.layers import Dense\n",
        "from keras.layers import Dropout\n",
        "from keras.layers import LSTM\n",
        "from matplotlib import style\n",
        "from sklearn.preprocessing import MinMaxScaler as msc"
      ],
      "execution_count": 1,
      "outputs": []
    },
    {
      "cell_type": "code",
      "metadata": {
        "id": "2qt_RZiXAeKo"
      },
      "source": [
        "df = pd.read_csv(\"https://raw.githubusercontent.com/mwitiderrick/stockprice/master/NSE-TATAGLOBAL.csv\")"
      ],
      "execution_count": 3,
      "outputs": []
    },
    {
      "cell_type": "code",
      "metadata": {
        "colab": {
          "base_uri": "https://localhost:8080/",
          "height": 206
        },
        "id": "icjjN497Am0Q",
        "outputId": "98168f4e-94a1-4d28-aa18-af6d988d5536"
      },
      "source": [
        "df.head()"
      ],
      "execution_count": 4,
      "outputs": [
        {
          "output_type": "execute_result",
          "data": {
            "text/html": [
              "<div>\n",
              "<style scoped>\n",
              "    .dataframe tbody tr th:only-of-type {\n",
              "        vertical-align: middle;\n",
              "    }\n",
              "\n",
              "    .dataframe tbody tr th {\n",
              "        vertical-align: top;\n",
              "    }\n",
              "\n",
              "    .dataframe thead th {\n",
              "        text-align: right;\n",
              "    }\n",
              "</style>\n",
              "<table border=\"1\" class=\"dataframe\">\n",
              "  <thead>\n",
              "    <tr style=\"text-align: right;\">\n",
              "      <th></th>\n",
              "      <th>Date</th>\n",
              "      <th>Open</th>\n",
              "      <th>High</th>\n",
              "      <th>Low</th>\n",
              "      <th>Last</th>\n",
              "      <th>Close</th>\n",
              "      <th>Total Trade Quantity</th>\n",
              "      <th>Turnover (Lacs)</th>\n",
              "    </tr>\n",
              "  </thead>\n",
              "  <tbody>\n",
              "    <tr>\n",
              "      <th>0</th>\n",
              "      <td>2018-09-28</td>\n",
              "      <td>234.05</td>\n",
              "      <td>235.95</td>\n",
              "      <td>230.20</td>\n",
              "      <td>233.50</td>\n",
              "      <td>233.75</td>\n",
              "      <td>3069914</td>\n",
              "      <td>7162.35</td>\n",
              "    </tr>\n",
              "    <tr>\n",
              "      <th>1</th>\n",
              "      <td>2018-09-27</td>\n",
              "      <td>234.55</td>\n",
              "      <td>236.80</td>\n",
              "      <td>231.10</td>\n",
              "      <td>233.80</td>\n",
              "      <td>233.25</td>\n",
              "      <td>5082859</td>\n",
              "      <td>11859.95</td>\n",
              "    </tr>\n",
              "    <tr>\n",
              "      <th>2</th>\n",
              "      <td>2018-09-26</td>\n",
              "      <td>240.00</td>\n",
              "      <td>240.00</td>\n",
              "      <td>232.50</td>\n",
              "      <td>235.00</td>\n",
              "      <td>234.25</td>\n",
              "      <td>2240909</td>\n",
              "      <td>5248.60</td>\n",
              "    </tr>\n",
              "    <tr>\n",
              "      <th>3</th>\n",
              "      <td>2018-09-25</td>\n",
              "      <td>233.30</td>\n",
              "      <td>236.75</td>\n",
              "      <td>232.00</td>\n",
              "      <td>236.25</td>\n",
              "      <td>236.10</td>\n",
              "      <td>2349368</td>\n",
              "      <td>5503.90</td>\n",
              "    </tr>\n",
              "    <tr>\n",
              "      <th>4</th>\n",
              "      <td>2018-09-24</td>\n",
              "      <td>233.55</td>\n",
              "      <td>239.20</td>\n",
              "      <td>230.75</td>\n",
              "      <td>234.00</td>\n",
              "      <td>233.30</td>\n",
              "      <td>3423509</td>\n",
              "      <td>7999.55</td>\n",
              "    </tr>\n",
              "  </tbody>\n",
              "</table>\n",
              "</div>"
            ],
            "text/plain": [
              "         Date    Open    High  ...   Close  Total Trade Quantity  Turnover (Lacs)\n",
              "0  2018-09-28  234.05  235.95  ...  233.75               3069914          7162.35\n",
              "1  2018-09-27  234.55  236.80  ...  233.25               5082859         11859.95\n",
              "2  2018-09-26  240.00  240.00  ...  234.25               2240909          5248.60\n",
              "3  2018-09-25  233.30  236.75  ...  236.10               2349368          5503.90\n",
              "4  2018-09-24  233.55  239.20  ...  233.30               3423509          7999.55\n",
              "\n",
              "[5 rows x 8 columns]"
            ]
          },
          "metadata": {},
          "execution_count": 4
        }
      ]
    },
    {
      "cell_type": "markdown",
      "metadata": {
        "id": "L-WMROdiDewU"
      },
      "source": [
        "## Data preprocess "
      ]
    },
    {
      "cell_type": "code",
      "metadata": {
        "colab": {
          "base_uri": "https://localhost:8080/",
          "height": 300
        },
        "id": "agrsrT0uApss",
        "outputId": "fe84f24b-8199-4d14-899f-fd875cda8cec"
      },
      "source": [
        "df.describe()"
      ],
      "execution_count": 5,
      "outputs": [
        {
          "output_type": "execute_result",
          "data": {
            "text/html": [
              "<div>\n",
              "<style scoped>\n",
              "    .dataframe tbody tr th:only-of-type {\n",
              "        vertical-align: middle;\n",
              "    }\n",
              "\n",
              "    .dataframe tbody tr th {\n",
              "        vertical-align: top;\n",
              "    }\n",
              "\n",
              "    .dataframe thead th {\n",
              "        text-align: right;\n",
              "    }\n",
              "</style>\n",
              "<table border=\"1\" class=\"dataframe\">\n",
              "  <thead>\n",
              "    <tr style=\"text-align: right;\">\n",
              "      <th></th>\n",
              "      <th>Open</th>\n",
              "      <th>High</th>\n",
              "      <th>Low</th>\n",
              "      <th>Last</th>\n",
              "      <th>Close</th>\n",
              "      <th>Total Trade Quantity</th>\n",
              "      <th>Turnover (Lacs)</th>\n",
              "    </tr>\n",
              "  </thead>\n",
              "  <tbody>\n",
              "    <tr>\n",
              "      <th>count</th>\n",
              "      <td>2035.000000</td>\n",
              "      <td>2035.000000</td>\n",
              "      <td>2035.000000</td>\n",
              "      <td>2035.000000</td>\n",
              "      <td>2035.00000</td>\n",
              "      <td>2.035000e+03</td>\n",
              "      <td>2035.000000</td>\n",
              "    </tr>\n",
              "    <tr>\n",
              "      <th>mean</th>\n",
              "      <td>149.713735</td>\n",
              "      <td>151.992826</td>\n",
              "      <td>147.293931</td>\n",
              "      <td>149.474251</td>\n",
              "      <td>149.45027</td>\n",
              "      <td>2.335681e+06</td>\n",
              "      <td>3899.980565</td>\n",
              "    </tr>\n",
              "    <tr>\n",
              "      <th>std</th>\n",
              "      <td>48.664509</td>\n",
              "      <td>49.413109</td>\n",
              "      <td>47.931958</td>\n",
              "      <td>48.732570</td>\n",
              "      <td>48.71204</td>\n",
              "      <td>2.091778e+06</td>\n",
              "      <td>4570.767877</td>\n",
              "    </tr>\n",
              "    <tr>\n",
              "      <th>min</th>\n",
              "      <td>81.100000</td>\n",
              "      <td>82.800000</td>\n",
              "      <td>80.000000</td>\n",
              "      <td>81.000000</td>\n",
              "      <td>80.95000</td>\n",
              "      <td>3.961000e+04</td>\n",
              "      <td>37.040000</td>\n",
              "    </tr>\n",
              "    <tr>\n",
              "      <th>25%</th>\n",
              "      <td>120.025000</td>\n",
              "      <td>122.100000</td>\n",
              "      <td>118.300000</td>\n",
              "      <td>120.075000</td>\n",
              "      <td>120.05000</td>\n",
              "      <td>1.146444e+06</td>\n",
              "      <td>1427.460000</td>\n",
              "    </tr>\n",
              "    <tr>\n",
              "      <th>50%</th>\n",
              "      <td>141.500000</td>\n",
              "      <td>143.400000</td>\n",
              "      <td>139.600000</td>\n",
              "      <td>141.100000</td>\n",
              "      <td>141.25000</td>\n",
              "      <td>1.783456e+06</td>\n",
              "      <td>2512.030000</td>\n",
              "    </tr>\n",
              "    <tr>\n",
              "      <th>75%</th>\n",
              "      <td>157.175000</td>\n",
              "      <td>159.400000</td>\n",
              "      <td>155.150000</td>\n",
              "      <td>156.925000</td>\n",
              "      <td>156.90000</td>\n",
              "      <td>2.813594e+06</td>\n",
              "      <td>4539.015000</td>\n",
              "    </tr>\n",
              "    <tr>\n",
              "      <th>max</th>\n",
              "      <td>327.700000</td>\n",
              "      <td>328.750000</td>\n",
              "      <td>321.650000</td>\n",
              "      <td>325.950000</td>\n",
              "      <td>325.75000</td>\n",
              "      <td>2.919102e+07</td>\n",
              "      <td>55755.080000</td>\n",
              "    </tr>\n",
              "  </tbody>\n",
              "</table>\n",
              "</div>"
            ],
            "text/plain": [
              "              Open         High  ...  Total Trade Quantity  Turnover (Lacs)\n",
              "count  2035.000000  2035.000000  ...          2.035000e+03      2035.000000\n",
              "mean    149.713735   151.992826  ...          2.335681e+06      3899.980565\n",
              "std      48.664509    49.413109  ...          2.091778e+06      4570.767877\n",
              "min      81.100000    82.800000  ...          3.961000e+04        37.040000\n",
              "25%     120.025000   122.100000  ...          1.146444e+06      1427.460000\n",
              "50%     141.500000   143.400000  ...          1.783456e+06      2512.030000\n",
              "75%     157.175000   159.400000  ...          2.813594e+06      4539.015000\n",
              "max     327.700000   328.750000  ...          2.919102e+07     55755.080000\n",
              "\n",
              "[8 rows x 7 columns]"
            ]
          },
          "metadata": {},
          "execution_count": 5
        }
      ]
    },
    {
      "cell_type": "code",
      "metadata": {
        "colab": {
          "base_uri": "https://localhost:8080/"
        },
        "id": "u03Yg8B9A15Z",
        "outputId": "24365e6f-0932-4e2c-a1ce-8729b150264b"
      },
      "source": [
        "df.shape\n"
      ],
      "execution_count": 6,
      "outputs": [
        {
          "output_type": "execute_result",
          "data": {
            "text/plain": [
              "(2035, 8)"
            ]
          },
          "metadata": {},
          "execution_count": 6
        }
      ]
    },
    {
      "cell_type": "code",
      "metadata": {
        "colab": {
          "base_uri": "https://localhost:8080/"
        },
        "id": "F-Gp5xr-A6j9",
        "outputId": "344bcc72-8aaf-4fd3-e0ca-d2cf368c9682"
      },
      "source": [
        "df.dtypes"
      ],
      "execution_count": 8,
      "outputs": [
        {
          "output_type": "execute_result",
          "data": {
            "text/plain": [
              "Date                     object\n",
              "Open                    float64\n",
              "High                    float64\n",
              "Low                     float64\n",
              "Last                    float64\n",
              "Close                   float64\n",
              "Total Trade Quantity      int64\n",
              "Turnover (Lacs)         float64\n",
              "dtype: object"
            ]
          },
          "metadata": {},
          "execution_count": 8
        }
      ]
    },
    {
      "cell_type": "code",
      "metadata": {
        "colab": {
          "base_uri": "https://localhost:8080/"
        },
        "id": "ykIfN9JuA8Ft",
        "outputId": "e9be7f83-cf03-442d-bff6-8b2f21729321"
      },
      "source": [
        "df.isnull().any()"
      ],
      "execution_count": 12,
      "outputs": [
        {
          "output_type": "execute_result",
          "data": {
            "text/plain": [
              "Date                    False\n",
              "Open                    False\n",
              "High                    False\n",
              "Low                     False\n",
              "Last                    False\n",
              "Close                   False\n",
              "Total Trade Quantity    False\n",
              "Turnover (Lacs)         False\n",
              "dtype: bool"
            ]
          },
          "metadata": {},
          "execution_count": 12
        }
      ]
    },
    {
      "cell_type": "markdown",
      "metadata": {
        "id": "3RjoQVivEP5J"
      },
      "source": [
        ""
      ]
    },
    {
      "cell_type": "markdown",
      "metadata": {
        "id": "BFjxWgdiEP_J"
      },
      "source": [
        "## Scaling data and removing unwanted columns"
      ]
    },
    {
      "cell_type": "code",
      "metadata": {
        "id": "fC67S2LyDk33"
      },
      "source": [
        "train_data=dataset.iloc[:, 1:2].values\n",
        "scaler_data = msc(feature_range = (0, 1))\n",
        "train_data = scaler_data.fit_transform(train_data)"
      ],
      "execution_count": 25,
      "outputs": []
    },
    {
      "cell_type": "code",
      "metadata": {
        "colab": {
          "base_uri": "https://localhost:8080/"
        },
        "id": "ybftLB0qD4Fr",
        "outputId": "2991a8cd-cb17-48b1-f53d-47dc7cafdf3e"
      },
      "source": [
        "train_data"
      ],
      "execution_count": 26,
      "outputs": [
        {
          "output_type": "execute_result",
          "data": {
            "text/plain": [
              "array([[0.6202352 ],\n",
              "       [0.62226277],\n",
              "       [0.64436334],\n",
              "       ...,\n",
              "       [0.16504461],\n",
              "       [0.15896188],\n",
              "       [0.16626115]])"
            ]
          },
          "metadata": {},
          "execution_count": 26
        }
      ]
    },
    {
      "cell_type": "code",
      "metadata": {
        "id": "Zu6RlKXhD5w5"
      },
      "source": [
        "y_train = []\n",
        "x_train = []\n",
        "for x in range(60,2035):\n",
        "    x_train.append(train_data[x-60:x,0])\n",
        "    y_train.append(train_data[x,0])"
      ],
      "execution_count": 29,
      "outputs": []
    },
    {
      "cell_type": "markdown",
      "metadata": {
        "id": "qJdNXGnDFAFj"
      },
      "source": [
        "## converting training data into numpy array"
      ]
    },
    {
      "cell_type": "code",
      "metadata": {
        "id": "FXxDE8RuE-Qg"
      },
      "source": [
        "x_train, y_train = np.array(x_train), np.array(y_train)"
      ],
      "execution_count": 33,
      "outputs": []
    },
    {
      "cell_type": "code",
      "metadata": {
        "colab": {
          "base_uri": "https://localhost:8080/"
        },
        "id": "Zr4DEyM3ElYn",
        "outputId": "fd516653-28ee-45da-cdc8-f3b5a00d6056"
      },
      "source": [
        "x_train.shape , y_train.shape"
      ],
      "execution_count": 34,
      "outputs": [
        {
          "output_type": "execute_result",
          "data": {
            "text/plain": [
              "((1975, 60), (1975,))"
            ]
          },
          "metadata": {},
          "execution_count": 34
        }
      ]
    },
    {
      "cell_type": "code",
      "metadata": {
        "id": "dLW5h6XBE2Tk"
      },
      "source": [
        "x_train = np.reshape(x_train, (x_train.shape[0], x_train.shape[1],1))\n"
      ],
      "execution_count": 35,
      "outputs": []
    },
    {
      "cell_type": "markdown",
      "metadata": {
        "id": "g0XU-KylFmo_"
      },
      "source": [
        "##Building model"
      ]
    },
    {
      "cell_type": "code",
      "metadata": {
        "id": "KPw3aZk0FHVJ"
      },
      "source": [
        "regression = Sequential()\n",
        "\n",
        "regression.add(LSTM(units = 40 , return_sequences = True , input_shape = (x_train.shape[1],1)))\n",
        "regression.add(Dropout(.2))\n",
        "\n",
        "regression.add(LSTM(units = 60 , return_sequences = True))\n",
        "regression.add(Dropout(.2))\n",
        "\n",
        "regression.add(LSTM(units = 80 , return_sequences = True))\n",
        "regression.add(Dropout(.2))\n",
        "\n",
        "regression.add(LSTM(units = 100))\n",
        "regression.add(Dropout(.2))\n",
        "\n",
        "regression.add(Dense(units = 1))"
      ],
      "execution_count": 38,
      "outputs": []
    },
    {
      "cell_type": "code",
      "metadata": {
        "colab": {
          "base_uri": "https://localhost:8080/"
        },
        "id": "t6V0vcOHFIa1",
        "outputId": "fadd9d51-73a6-497a-e120-34a7af0de701"
      },
      "source": [
        "regression.compile(optimizer = 'adam' , loss= 'MSE')\n",
        "regression.fit(x_train,y_train,epochs =80 , batch_size =32)"
      ],
      "execution_count": 57,
      "outputs": [
        {
          "output_type": "stream",
          "name": "stdout",
          "text": [
            "Epoch 1/80\n",
            "62/62 [==============================] - 16s 156ms/step - loss: 7.1997e-04\n",
            "Epoch 2/80\n",
            "62/62 [==============================] - 10s 158ms/step - loss: 6.6167e-04\n",
            "Epoch 3/80\n",
            "62/62 [==============================] - 10s 158ms/step - loss: 7.2543e-04\n",
            "Epoch 4/80\n",
            "62/62 [==============================] - 10s 162ms/step - loss: 6.2118e-04\n",
            "Epoch 5/80\n",
            "62/62 [==============================] - 10s 159ms/step - loss: 6.0369e-04\n",
            "Epoch 6/80\n",
            "62/62 [==============================] - 10s 156ms/step - loss: 6.1010e-04\n",
            "Epoch 7/80\n",
            "62/62 [==============================] - 10s 156ms/step - loss: 7.2294e-04\n",
            "Epoch 8/80\n",
            "62/62 [==============================] - 10s 156ms/step - loss: 5.4651e-04\n",
            "Epoch 9/80\n",
            "62/62 [==============================] - 10s 154ms/step - loss: 5.5998e-04\n",
            "Epoch 10/80\n",
            "62/62 [==============================] - 10s 158ms/step - loss: 6.4582e-04\n",
            "Epoch 11/80\n",
            "62/62 [==============================] - 10s 158ms/step - loss: 6.6585e-04\n",
            "Epoch 12/80\n",
            "62/62 [==============================] - 10s 157ms/step - loss: 6.3639e-04\n",
            "Epoch 13/80\n",
            "62/62 [==============================] - 10s 156ms/step - loss: 5.9362e-04\n",
            "Epoch 14/80\n",
            "62/62 [==============================] - 10s 161ms/step - loss: 5.4526e-04\n",
            "Epoch 15/80\n",
            "62/62 [==============================] - 10s 162ms/step - loss: 6.2059e-04\n",
            "Epoch 16/80\n",
            "62/62 [==============================] - 10s 160ms/step - loss: 6.3506e-04\n",
            "Epoch 17/80\n",
            "62/62 [==============================] - 10s 160ms/step - loss: 9.2413e-04\n",
            "Epoch 18/80\n",
            "62/62 [==============================] - 10s 162ms/step - loss: 6.0871e-04\n",
            "Epoch 19/80\n",
            "62/62 [==============================] - 11s 169ms/step - loss: 5.0332e-04\n",
            "Epoch 20/80\n",
            "62/62 [==============================] - 10s 159ms/step - loss: 4.8739e-04\n",
            "Epoch 21/80\n",
            "62/62 [==============================] - 10s 160ms/step - loss: 5.9942e-04\n",
            "Epoch 22/80\n",
            "62/62 [==============================] - 10s 159ms/step - loss: 6.2646e-04\n",
            "Epoch 23/80\n",
            "62/62 [==============================] - 10s 157ms/step - loss: 6.0178e-04\n",
            "Epoch 24/80\n",
            "62/62 [==============================] - 10s 159ms/step - loss: 5.5293e-04\n",
            "Epoch 25/80\n",
            "62/62 [==============================] - 10s 161ms/step - loss: 6.1553e-04\n",
            "Epoch 26/80\n",
            "62/62 [==============================] - 10s 165ms/step - loss: 6.1379e-04\n",
            "Epoch 27/80\n",
            "62/62 [==============================] - 10s 160ms/step - loss: 5.9711e-04\n",
            "Epoch 28/80\n",
            "62/62 [==============================] - 10s 161ms/step - loss: 5.0508e-04\n",
            "Epoch 29/80\n",
            "62/62 [==============================] - 10s 158ms/step - loss: 5.1509e-04\n",
            "Epoch 30/80\n",
            "62/62 [==============================] - 10s 160ms/step - loss: 5.4337e-04\n",
            "Epoch 31/80\n",
            "62/62 [==============================] - 10s 158ms/step - loss: 5.6405e-04\n",
            "Epoch 32/80\n",
            "62/62 [==============================] - 10s 158ms/step - loss: 5.8013e-04\n",
            "Epoch 33/80\n",
            "62/62 [==============================] - 10s 156ms/step - loss: 5.7566e-04\n",
            "Epoch 34/80\n",
            "62/62 [==============================] - 10s 160ms/step - loss: 4.6255e-04\n",
            "Epoch 35/80\n",
            "62/62 [==============================] - 10s 159ms/step - loss: 5.6272e-04\n",
            "Epoch 36/80\n",
            "62/62 [==============================] - 10s 158ms/step - loss: 5.3162e-04\n",
            "Epoch 37/80\n",
            "62/62 [==============================] - 10s 156ms/step - loss: 5.4712e-04\n",
            "Epoch 38/80\n",
            "62/62 [==============================] - 10s 160ms/step - loss: 5.3867e-04\n",
            "Epoch 39/80\n",
            "62/62 [==============================] - 10s 162ms/step - loss: 6.2488e-04\n",
            "Epoch 40/80\n",
            "62/62 [==============================] - 10s 162ms/step - loss: 5.6243e-04\n",
            "Epoch 41/80\n",
            "62/62 [==============================] - 10s 159ms/step - loss: 5.6388e-04\n",
            "Epoch 42/80\n",
            "62/62 [==============================] - 10s 160ms/step - loss: 5.6297e-04\n",
            "Epoch 43/80\n",
            "62/62 [==============================] - 10s 160ms/step - loss: 4.7826e-04\n",
            "Epoch 44/80\n",
            "62/62 [==============================] - 10s 162ms/step - loss: 5.0566e-04\n",
            "Epoch 45/80\n",
            "62/62 [==============================] - 10s 162ms/step - loss: 5.0950e-04\n",
            "Epoch 46/80\n",
            "62/62 [==============================] - 10s 160ms/step - loss: 5.3935e-04\n",
            "Epoch 47/80\n",
            "62/62 [==============================] - 10s 160ms/step - loss: 5.6644e-04\n",
            "Epoch 48/80\n",
            "62/62 [==============================] - 10s 156ms/step - loss: 4.7361e-04\n",
            "Epoch 49/80\n",
            "62/62 [==============================] - 10s 159ms/step - loss: 5.6587e-04\n",
            "Epoch 50/80\n",
            "62/62 [==============================] - 10s 161ms/step - loss: 5.6628e-04\n",
            "Epoch 51/80\n",
            "62/62 [==============================] - 10s 159ms/step - loss: 4.8037e-04\n",
            "Epoch 52/80\n",
            "62/62 [==============================] - 10s 160ms/step - loss: 5.7580e-04\n",
            "Epoch 53/80\n",
            "62/62 [==============================] - 10s 160ms/step - loss: 5.3102e-04\n",
            "Epoch 54/80\n",
            "62/62 [==============================] - 10s 162ms/step - loss: 5.3459e-04\n",
            "Epoch 55/80\n",
            "62/62 [==============================] - 10s 159ms/step - loss: 5.0681e-04\n",
            "Epoch 56/80\n",
            "62/62 [==============================] - 10s 156ms/step - loss: 5.1206e-04\n",
            "Epoch 57/80\n",
            "62/62 [==============================] - 10s 160ms/step - loss: 5.0500e-04\n",
            "Epoch 58/80\n",
            "62/62 [==============================] - 10s 159ms/step - loss: 4.9750e-04\n",
            "Epoch 59/80\n",
            "62/62 [==============================] - 10s 160ms/step - loss: 5.7817e-04\n",
            "Epoch 60/80\n",
            "62/62 [==============================] - 10s 161ms/step - loss: 4.9600e-04\n",
            "Epoch 61/80\n",
            "62/62 [==============================] - 10s 157ms/step - loss: 4.7801e-04\n",
            "Epoch 62/80\n",
            "62/62 [==============================] - 10s 159ms/step - loss: 4.4263e-04\n",
            "Epoch 63/80\n",
            "62/62 [==============================] - 10s 161ms/step - loss: 5.0679e-04\n",
            "Epoch 64/80\n",
            "62/62 [==============================] - 10s 158ms/step - loss: 5.2877e-04\n",
            "Epoch 65/80\n",
            "62/62 [==============================] - 10s 160ms/step - loss: 4.8360e-04\n",
            "Epoch 66/80\n",
            "62/62 [==============================] - 10s 158ms/step - loss: 5.4032e-04\n",
            "Epoch 67/80\n",
            "62/62 [==============================] - 10s 160ms/step - loss: 4.7366e-04\n",
            "Epoch 68/80\n",
            "62/62 [==============================] - 10s 159ms/step - loss: 4.9132e-04\n",
            "Epoch 69/80\n",
            "62/62 [==============================] - 10s 161ms/step - loss: 4.8238e-04\n",
            "Epoch 70/80\n",
            "62/62 [==============================] - 10s 160ms/step - loss: 5.4759e-04\n",
            "Epoch 71/80\n",
            "62/62 [==============================] - 10s 161ms/step - loss: 4.7934e-04\n",
            "Epoch 72/80\n",
            "62/62 [==============================] - 10s 164ms/step - loss: 5.2724e-04\n",
            "Epoch 73/80\n",
            "62/62 [==============================] - 10s 163ms/step - loss: 4.9794e-04\n",
            "Epoch 74/80\n",
            "62/62 [==============================] - 10s 165ms/step - loss: 5.6939e-04\n",
            "Epoch 75/80\n",
            "62/62 [==============================] - 10s 167ms/step - loss: 5.1335e-04\n",
            "Epoch 76/80\n",
            "62/62 [==============================] - 10s 158ms/step - loss: 4.2415e-04\n",
            "Epoch 77/80\n",
            "62/62 [==============================] - 10s 155ms/step - loss: 4.5357e-04\n",
            "Epoch 78/80\n",
            "62/62 [==============================] - 10s 162ms/step - loss: 5.0164e-04\n",
            "Epoch 79/80\n",
            "62/62 [==============================] - 10s 159ms/step - loss: 4.4600e-04\n",
            "Epoch 80/80\n",
            "62/62 [==============================] - 10s 158ms/step - loss: 4.2896e-04\n"
          ]
        },
        {
          "output_type": "execute_result",
          "data": {
            "text/plain": [
              "<keras.callbacks.History at 0x7fdea0a81510>"
            ]
          },
          "metadata": {},
          "execution_count": 57
        }
      ]
    },
    {
      "cell_type": "markdown",
      "metadata": {
        "id": "LwUfV1iuGfHR"
      },
      "source": [
        "## prepare data for prediction"
      ]
    },
    {
      "cell_type": "code",
      "metadata": {
        "colab": {
          "base_uri": "https://localhost:8080/"
        },
        "id": "ChAWg1F8F6Nh",
        "outputId": "f9fbaaff-4abc-458b-d02d-9c92df037b07"
      },
      "source": [
        "dataset_test = pd.read_csv('https://raw.githubusercontent.com/mwitiderrick/stockprice/master/tatatest.csv')\n",
        "RSP = dataset_test.iloc[:, 1:2].values\n",
        "print(RSP)"
      ],
      "execution_count": 58,
      "outputs": [
        {
          "output_type": "stream",
          "name": "stdout",
          "text": [
            "[[220.1 ]\n",
            " [221.1 ]\n",
            " [229.45]\n",
            " [230.3 ]\n",
            " [237.7 ]\n",
            " [237.1 ]\n",
            " [229.7 ]\n",
            " [226.25]\n",
            " [215.  ]\n",
            " [215.  ]\n",
            " [215.5 ]\n",
            " [208.  ]\n",
            " [217.  ]\n",
            " [223.5 ]\n",
            " [230.  ]\n",
            " [234.55]]\n"
          ]
        }
      ]
    },
    {
      "cell_type": "code",
      "metadata": {
        "id": "yGM2qRqEGiYe"
      },
      "source": [
        "dataset_total = pd.concat((dataset['Open'], dataset_test['Open']), axis = 0)\n",
        "input_data = dataset_total[len(dataset_total) - len(dataset_test) - 60:].values\n",
        "input_data = input_data.reshape(-1,1)\n",
        "input_data = scaler_data.transform(input_data)"
      ],
      "execution_count": 59,
      "outputs": []
    },
    {
      "cell_type": "code",
      "metadata": {
        "id": "edohswS8GsN1"
      },
      "source": [
        "x_test = []\n",
        "for item in range(60,76):\n",
        "    x_test.append(input_data[item-60:item,0])"
      ],
      "execution_count": 60,
      "outputs": []
    },
    {
      "cell_type": "code",
      "metadata": {
        "id": "N8yrg1bRGvzF"
      },
      "source": [
        "x_test = np.array(x_test)\n",
        "x_test = np.reshape(x_test , (x_test.shape[0] , x_test.shape[1], 1))"
      ],
      "execution_count": 61,
      "outputs": []
    },
    {
      "cell_type": "code",
      "metadata": {
        "id": "3ypu2GvVHCGx"
      },
      "source": [
        "PSP = regression.predict(x_test)\n",
        "PSP = scaler_data.inverse_transform(PSP)"
      ],
      "execution_count": 62,
      "outputs": []
    },
    {
      "cell_type": "markdown",
      "metadata": {
        "id": "lpMS__pbHKqy"
      },
      "source": [
        "## Plotting acutal result and our model predict result"
      ]
    },
    {
      "cell_type": "code",
      "metadata": {
        "colab": {
          "base_uri": "https://localhost:8080/",
          "height": 295
        },
        "id": "Ud2Ao6PMHFJV",
        "outputId": "3cf1b01b-4de4-42c9-ecd4-c12fde74b623"
      },
      "source": [
        "plt.plot(RSP , color = 'blue' , label = 'Real TATA Stock Price')\n",
        "plt.plot(PSP , color = 'green' , label = 'Predicted Results' )\n",
        "plt.title('TATA Stock  Price Prediction')\n",
        "plt.xlabel('Time Years')\n",
        "plt.ylabel('TATA Stock Price')\n",
        "plt.legend()\n",
        "plt.show()"
      ],
      "execution_count": 64,
      "outputs": [
        {
          "output_type": "display_data",
          "data": {
            "image/png": "[encoded data removed]",
            "text/plain": [
              "<Figure size 432x288 with 1 Axes>"
            ]
          },
          "metadata": {
            "needs_background": "light"
          }
        }
      ]
    },
    {
      "cell_type": "code",
      "metadata": {
        "id": "2X4gLFEfHIkj"
      },
      "source": [
        ""
      ],
      "execution_count": null,
      "outputs": []
    }
  ]
}